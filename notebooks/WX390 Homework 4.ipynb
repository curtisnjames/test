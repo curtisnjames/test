{
 "cells": [
  {
   "cell_type": "markdown",
   "metadata": {},
   "source": [
    "In this homework exercise, we will use Python to plot the Fresnel relations for reflectivity of vertically polarized and horizontally polarized light ($R_v$ and $R_h$, respectively) as a function of the incident zenith angle $\\theta_i$. The goal will be to reproduce Fig. 4.5a of the Petty book. \n",
    "\n",
    "At the top of your code, insert a comment with your name and the assignment. Then import the numpy library into Python in order to make mathematical computations. Use the box below to complete these steps."
   ]
  },
  {
   "cell_type": "code",
   "execution_count": null,
   "metadata": {
    "collapsed": true
   },
   "outputs": [],
   "source": []
  },
  {
   "cell_type": "markdown",
   "metadata": {},
   "source": [
    "Next, use the empty equation box below to define a 1-dimensional array for *$\\theta_i$* (the incident angle). The array could be of length 181 values ranging from 0.0$^\\circ$ to 90.0$^\\circ$ using the linspace function in increments of 0.5. Print the array below the box. "
   ]
  },
  {
   "cell_type": "code",
   "execution_count": null,
   "metadata": {
    "collapsed": true
   },
   "outputs": [],
   "source": []
  },
  {
   "cell_type": "markdown",
   "metadata": {},
   "source": [
    "Now, define your constants, including $m_r$, the real part of the index of refraction for visible light in both air and water. Also, use these two constants to calculate $f$, the ratio of these indices (the index for the second medium over the index for the first medium). For ease in calculation, you should also temporarily change the values of the array for $\\theta_i$ to radians. Note that *numpi.pi* returns the value of $\\pi$."
   ]
  },
  {
   "cell_type": "code",
   "execution_count": null,
   "metadata": {
    "collapsed": true
   },
   "outputs": [],
   "source": []
  },
  {
   "cell_type": "markdown",
   "metadata": {},
   "source": [
    "Next, we need to calculate $\\theta_t$ by solving Snell's Law for visible light going from air to water. Use $\\theta_i$ as input into the calculation for $\\theta_t$, and you will automatically create a 1-D array of values for $\\theta_t$. Then, print the values of the array below the box. You will need to use the *numpy.sin* and *numpy.arcsin* functions, noting that the input value for the *sin* function and the output of the *arcsin* function are both in radians. "
   ]
  },
  {
   "cell_type": "code",
   "execution_count": null,
   "metadata": {
    "collapsed": true
   },
   "outputs": [],
   "source": []
  },
  {
   "cell_type": "markdown",
   "metadata": {},
   "source": [
    "Next, compute arrays of $R_v$ and $R_h$ using $\\theta_i$, $\\theta_t$ and $f$ as input values. \n",
    "The Fresnel relations are as follows:\n",
    "$$R_v=\\left|\\frac{\\cos\\theta_t-f\\cos\\theta_i}{\\cos\\theta_t+f\\cos\\theta_i}\\right|^2$$\n",
    "$$R_h=\\left|\\frac{\\cos\\theta_i-f\\cos\\theta_t}{\\cos\\theta_i+f\\cos\\theta_t}\\right|^2$$\n",
    "Once you complete the calculation, convert $\\theta_i$ back to degrees. Also convert $R_v$ and $R_h$ to percentages."
   ]
  },
  {
   "cell_type": "code",
   "execution_count": null,
   "metadata": {
    "collapsed": true
   },
   "outputs": [],
   "source": []
  },
  {
   "cell_type": "markdown",
   "metadata": {},
   "source": [
    "Finally, import the *matplotlib.pyplot* library as plt, then plot the array with $\\theta_i$ as the independent variable and $R_v$ (solid) and $R_h$ (dashed) as the dependent variables. This is accomplished using the command *plt.plot*. Then, specify the plot title and axis labels with units. Use the command *plt.axis([0, 90.0, 0, 100.0])* and *plt.grid()* to set the limits of the axis with a grid overlay. Execute the commands *plt.savefig('WX390 Homework 4.png', dpi = 300)* and *plt.show()* to save the figure. "
   ]
  },
  {
   "cell_type": "code",
   "execution_count": null,
   "metadata": {
    "collapsed": true
   },
   "outputs": [],
   "source": []
  }
 ],
 "metadata": {
  "kernelspec": {
   "display_name": "Python 3",
   "language": "python",
   "name": "python3"
  },
  "language_info": {
   "codemirror_mode": {
    "name": "ipython",
    "version": 3
   },
   "file_extension": ".py",
   "mimetype": "text/x-python",
   "name": "python",
   "nbconvert_exporter": "python",
   "pygments_lexer": "ipython3",
   "version": "3.7.1"
  }
 },
 "nbformat": 4,
 "nbformat_minor": 2
}
