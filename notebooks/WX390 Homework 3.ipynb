{
 "cells": [
  {
   "cell_type": "markdown",
   "metadata": {},
   "source": [
    "In this homework exercise, we will use Python to plot the monochromatic flux of a blackbody *F$^{*}_{\\lambda}$* as a function of wavelength *$\\lambda$* for a given surface temperature T. We will make $\\lambda$ in microns as the independent variable and *F$^{*}_{\\lambda}$* in *W$m^{-2}{\\mu}m^{-1}$*. The graph will need to be in printable/publishable quality. Properly annotate the graph with an appropriate title and axis labels with units.\n",
    "\n",
    "At the top of your code, insert a comment with your name and the assignment. We then import the numpy library into Python in order to make mathematical computations. Use the box below to complete these steps."
   ]
  },
  {
   "cell_type": "code",
   "execution_count": 1,
   "metadata": {
    "collapsed": true
   },
   "outputs": [],
   "source": []
  },
  {
   "cell_type": "markdown",
   "metadata": {},
   "source": [
    "Next, use the empty equation box below to define a 1-dimensional array for *$\\lambda$* of length 200 values ranging from 0.01 to 2.00 ${\\mu}m$ using the linspace function. Print the array below the box. "
   ]
  },
  {
   "cell_type": "code",
   "execution_count": null,
   "metadata": {
    "collapsed": true
   },
   "outputs": [],
   "source": []
  },
  {
   "cell_type": "markdown",
   "metadata": {},
   "source": [
    "Next, define the constants *c$_{1}$*, *c$_{2}$*, *T*. Use a # sign after each constant definition to create a comment to indicate the units of each constant."
   ]
  },
  {
   "cell_type": "code",
   "execution_count": null,
   "metadata": {
    "collapsed": true
   },
   "outputs": [],
   "source": []
  },
  {
   "cell_type": "markdown",
   "metadata": {},
   "source": [
    "Now, calculate the dependent variable *F$^{*}_{\\lambda}$*, a 1-D array, as a function of the 1-D array *$\\lambda$* using the expression below. **Make sure to check your units and convert *${\\mu}m$* (microns) to meters.** Then convert the results of *F$^{*}_{\\lambda}$* to units of *W$m^{-2}{\\mu}m^{-1}$*.\n",
    "\n",
    "$$F^{*}_{\\lambda}\\left(\\lambda,T\\right)=\\frac{c_{1}\\lambda^{-5}}{e^{({c_{2}}/{\\lambda T})}-1}$$"
   ]
  },
  {
   "cell_type": "code",
   "execution_count": null,
   "metadata": {
    "collapsed": true
   },
   "outputs": [],
   "source": []
  },
  {
   "cell_type": "markdown",
   "metadata": {},
   "source": [
    "Finally, import the *matplotlib.pyplot* library as plt, then plot the array with *$\\lambda$* as the independent variable and *F$^{*}_{\\lambda}$* as the dependent variable. This is accomplished using the command *plt.plot*. Then, specify the plot title, and axis labels with units. Use the command *plt.axis([0, 2.0, 0, 1.5E8])* and *plt.grid()* to set the limits of the axis with a grid overlay. Execute the commands *plt.savefig('WX390 Homework 3.png', dpi = 300)* and *plt.show()* to save the figure. \n",
    "\n",
    "NOTE: In order to display the units of *F$^{*}_{\\lambda}$* and *$\\lambda$* nicely on the graph axes, use LaTeX equation editor format as follows:\n",
    "\n",
    "$\\mu m$ is typed as \"\\mu m\" bounded before and after by dollar signs. \n",
    "\n",
    "$Wm^{-2}\\mu m^{-1}$ is typed as \"Wm^{-2}\\mu m^{-1}\" bounded before and after by dollar signs."
   ]
  },
  {
   "cell_type": "code",
   "execution_count": null,
   "metadata": {
    "collapsed": true
   },
   "outputs": [],
   "source": []
  }
 ],
 "metadata": {
  "kernelspec": {
   "display_name": "Python 3",
   "language": "python",
   "name": "python3"
  },
  "language_info": {
   "codemirror_mode": {
    "name": "ipython",
    "version": 3
   },
   "file_extension": ".py",
   "mimetype": "text/x-python",
   "name": "python",
   "nbconvert_exporter": "python",
   "pygments_lexer": "ipython3",
   "version": "3.7.1"
  }
 },
 "nbformat": 4,
 "nbformat_minor": 2
}
