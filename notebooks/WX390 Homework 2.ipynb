{
 "cells": [
  {
   "cell_type": "markdown",
   "metadata": {},
   "source": [
    "In this homework exercise, we will use Python to plot the standard atmosphere height z as a function of pressure p. In part (a) of the homework problem, you solved for *z$_{2}$* at a pressure value of *p$_{2}$* where *z$_{1}$ = 0* for MSL, *p$_{1}$* is the MSL pressure (1013.25 hPa), *T$_{1}$* is the MSL temperature of 15.0$\\,^{\\circ}{\\rm}$C (converted to K), and $\\Gamma$ is the standard lapse rate of 6.50$\\,^{\\circ}{\\rm}$C/km. \n",
    "\n",
    "In this program, we will want to graph the function *z(p)*, which will give us the height z as a function of p, which we allow to vary from 1013 hPa to 100 hPa. The height z will be in 1,000s of feet (kft), and will be geopotential height because we will treat gravity as a constant *g$_{0}$ = 9.807 ms$^{-1}$*. The graph will need to be in printable/publishable quality. Make the independent variable p and the dependent variable z. Properly annotate the graph with an appropriate title and axis labels with units.\n",
    "\n",
    "At the top of your code, insert a comment with your name and the assignment. We then import the numpy library into Python in order to make mathematical computations. Use the box below to complete these steps."
   ]
  },
  {
   "cell_type": "code",
   "execution_count": null,
   "metadata": {
    "collapsed": true
   },
   "outputs": [],
   "source": []
  },
  {
   "cell_type": "markdown",
   "metadata": {},
   "source": [
    "Next, use the empty equation box below to define a 1-dimensional array p of length 101 values ranging from 100 to 1013.25 hPa using the *linspace* function. Print the array below the box. NOTE: Even though pressure decays logarithmically with height, it is okay to use *linspace* here because we are simply creating an array of pressure values, and at each value height will be plotted."
   ]
  },
  {
   "cell_type": "code",
   "execution_count": null,
   "metadata": {},
   "outputs": [],
   "source": []
  },
  {
   "cell_type": "markdown",
   "metadata": {},
   "source": [
    "Next, define the constants *z$_{1}$*, *p$_{1}$*, *g$_{0}$*, *$\\Gamma$*, *R$_{d}$*, and *T$_{1}$*. Use a # sign after each constant definition to create a comment to indicate the units of each constant."
   ]
  },
  {
   "cell_type": "code",
   "execution_count": null,
   "metadata": {
    "collapsed": true
   },
   "outputs": [],
   "source": []
  },
  {
   "cell_type": "markdown",
   "metadata": {},
   "source": [
    "Next, calculate the dependent variable z, a 1-D array, as a function of the 1-D array p using the expression below, which you solved for *$z_{2}$* in part (a) of the homework problem. Then print the array. **Make sure to check your units and convert *z* to kft!** Since pressure units cancel each other, there is no need to convert p to Pascals in your code. \n",
    "\n",
    "$$\\frac{p_{2}}{p_{1}}=\\left(\\frac{T_{1}-\\Gamma z_{2}}{T_{1}-\\Gamma z_{1}}\\right)^{g_{0} / \\left( \\Gamma R_{d} \\right)}$$"
   ]
  },
  {
   "cell_type": "code",
   "execution_count": null,
   "metadata": {
    "collapsed": true
   },
   "outputs": [],
   "source": []
  },
  {
   "cell_type": "markdown",
   "metadata": {},
   "source": [
    "Next, import the *matplotlib.pyplot* library as plt, then plot the array with p as the independent variable and z as the dependent variable. This is accomplished using the command *plt.plot*. Then, specify the plot title, and axis labels with units before executing the commands *plt.grid()*, *plt.savefig('WX390 Homework 2.png', dpi = 300)* and *plt.show()* to save the figure."
   ]
  },
  {
   "cell_type": "code",
   "execution_count": null,
   "metadata": {
    "collapsed": true,
    "scrolled": true
   },
   "outputs": [],
   "source": []
  },
  {
   "cell_type": "markdown",
   "metadata": {},
   "source": [
    "Print the exercise above when you are finished, along with the completed graph. Then answer the interpretation question on the corresponding homework problem using this graph. "
   ]
  }
 ],
 "metadata": {
  "kernelspec": {
   "display_name": "Python 3",
   "language": "python",
   "name": "python3"
  },
  "language_info": {
   "codemirror_mode": {
    "name": "ipython",
    "version": 3
   },
   "file_extension": ".py",
   "mimetype": "text/x-python",
   "name": "python",
   "nbconvert_exporter": "python",
   "pygments_lexer": "ipython3",
   "version": "3.7.1"
  }
 },
 "nbformat": 4,
 "nbformat_minor": 2
}
