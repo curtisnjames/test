{
 "cells": [
  {
   "cell_type": "markdown",
   "metadata": {},
   "source": [
    "In this homework exercise, we will plot the height of a radar's base scan as a function of slant range (to 200 km) for a given tilt above the horizon. We will shade the width of the beam from top to bottom for the given beamwidth. We use the expression <p>\n",
    "$$z = [r^2+(k_e R_e)^2+2rk_eR_e\\sin\\theta_e]^{1/2}-k_eR_e$$\n",
    "<p>\n",
    "where $z$ is the height of the beam of that of the radar antenna, $r$ is the slant range from the radar, $R_e$ is the earth's radius, $k_e$ is the factor multiplied by $R_e$ in the ray propagation model ($k_e = 4/3$ under standard conditions), and $\\theta_e$ is the elevation angle or tilt angle of the center of the radar beam above the horizon. We will want to shade between the bottom of the beam (given by an elevation angle of $\\theta_e-\\frac{\\Delta\\theta}{2}$) and the top of the beam (given by $\\theta_e+\\frac{\\Delta\\theta}{2}$).\n",
    "\n",
    "In our plot, $r$ will be the independent variable and $z$ will be the dependent variable (it will be a plot of $z$ v. $r$). We will want the $r$ axis to vary from 0 to 200 *km*. Properly annotate the graph with an appropriate title and axis labels with units.\n",
    "\n",
    "As always, we should include our name and assignment in a comment line at the top of our code, and then import the numpy library into Python in order to make mathematical computations. Use the box below to complete these steps."
   ]
  },
  {
   "cell_type": "code",
   "execution_count": null,
   "metadata": {
    "collapsed": true
   },
   "outputs": [],
   "source": []
  },
  {
   "cell_type": "markdown",
   "metadata": {},
   "source": [
    "Next, use the empty equation box below to define a 1-dimensional array for range $r$. The array length could be 201 values ranging from 0 to 200 km. Print the array below the box. "
   ]
  },
  {
   "cell_type": "code",
   "execution_count": null,
   "metadata": {},
   "outputs": [],
   "source": []
  },
  {
   "cell_type": "markdown",
   "metadata": {},
   "source": [
    "Now, define your constants, namely $R_e$, $k_e$, $\\theta_e$, and $\\Delta\\theta$. Be sure to insert the comment next to each constant indicating the physical units. "
   ]
  },
  {
   "cell_type": "code",
   "execution_count": null,
   "metadata": {
    "collapsed": true
   },
   "outputs": [],
   "source": []
  },
  {
   "cell_type": "markdown",
   "metadata": {},
   "source": [
    "Next, we calculate height above the radar antenna $z$ as a function of slant range $r$ at the top of the beam (i.e. at an elevation angle $\\theta_e+\\frac{\\Delta\\theta}{2}$). Then, calculate height above the radar antenna $z$ as a function of slant range $r$ at the top of the beam (i.e. at an elevation angle $\\theta_e-\\frac{\\Delta\\theta}{2}$). Print the values of the arrays below the box. "
   ]
  },
  {
   "cell_type": "code",
   "execution_count": null,
   "metadata": {},
   "outputs": [],
   "source": []
  },
  {
   "cell_type": "markdown",
   "metadata": {},
   "source": [
    "Finally, import the *matplotlib.pyplot* library as plt, then plot the arrays for $z$ at the top of the beam and $z$ at the bottom of the beam with $r$ as the independent variable. Shade between the two arrays using the *fill_between* command in the *mathplotlib.pyplot* library. Then, specify the plot title and axis labels with units. Use the command *plt.axis([0.0, 200.0, 0, 10.0])* and *plt.grid()* to set the limits of the axis with a grid overlay. Execute the commands *plt.savefig('WX390 Homework 7.5.png', dpi = 300)* and *plt.show()* to save the figure. "
   ]
  },
  {
   "cell_type": "code",
   "execution_count": null,
   "metadata": {},
   "outputs": [],
   "source": []
  }
 ],
 "metadata": {
  "kernelspec": {
   "display_name": "Python 3",
   "language": "python",
   "name": "python3"
  },
  "language_info": {
   "codemirror_mode": {
    "name": "ipython",
    "version": 3
   },
   "file_extension": ".py",
   "mimetype": "text/x-python",
   "name": "python",
   "nbconvert_exporter": "python",
   "pygments_lexer": "ipython3",
   "version": "3.7.1"
  }
 },
 "nbformat": 4,
 "nbformat_minor": 2
}
