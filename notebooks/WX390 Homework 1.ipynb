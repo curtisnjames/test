{
 "cells": [
  {
   "cell_type": "markdown",
   "metadata": {},
   "source": [
    "Greetings, atmospheric physics student! In this homework exercise, we will use Python to plot the orbital speed of a satellite *V(z)* in m/s as a function of distance z in km from the earth's surface. The expression for *V(z)* is as follows:\n",
    "$$V(z) = \\sqrt{\\frac{GM}{(R_e + z)}}$$\n",
    "\n",
    "We will want to graph the function in printable or publishable quality from z=0 to 50,000 km. Make the independent variable z and the dependent variable V. Properly annotate the graph with an appropriate title and axis labels with units. \n",
    "\n",
    "At the top of your code, insert a comment with your name and the assignment. We then import the numpy library into Python in order to make mathematical computations. Use the box below to complete these steps."
   ]
  },
  {
   "cell_type": "code",
   "execution_count": 5,
   "metadata": {},
   "outputs": [],
   "source": [
    "# Curtis James\n",
    "# WX390 HW 1\n",
    "\n",
    "import numpy as np"
   ]
  },
  {
   "cell_type": "markdown",
   "metadata": {},
   "source": [
    "Next, use the empty equation box below to define a 1-dimensional array z of length 101 values ranging from 0 to 50,000 km using the *linspace* function (each point in the array will be 500 km apart). Print the array below the box."
   ]
  },
  {
   "cell_type": "code",
   "execution_count": 7,
   "metadata": {},
   "outputs": [
    {
     "name": "stdout",
     "output_type": "stream",
     "text": [
      "[    0.   500.  1000.  1500.  2000.  2500.  3000.  3500.  4000.  4500.\n",
      "  5000.  5500.  6000.  6500.  7000.  7500.  8000.  8500.  9000.  9500.\n",
      " 10000. 10500. 11000. 11500. 12000. 12500. 13000. 13500. 14000. 14500.\n",
      " 15000. 15500. 16000. 16500. 17000. 17500. 18000. 18500. 19000. 19500.\n",
      " 20000. 20500. 21000. 21500. 22000. 22500. 23000. 23500. 24000. 24500.\n",
      " 25000. 25500. 26000. 26500. 27000. 27500. 28000. 28500. 29000. 29500.\n",
      " 30000. 30500. 31000. 31500. 32000. 32500. 33000. 33500. 34000. 34500.\n",
      " 35000. 35500. 36000. 36500. 37000. 37500. 38000. 38500. 39000. 39500.\n",
      " 40000. 40500. 41000. 41500. 42000. 42500. 43000. 43500. 44000. 44500.\n",
      " 45000. 45500. 46000. 46500. 47000. 47500. 48000. 48500. 49000. 49500.\n",
      " 50000.]\n"
     ]
    }
   ],
   "source": [
    "z=np.linspace(0, 50000, 101)\n",
    "print(z)"
   ]
  },
  {
   "cell_type": "markdown",
   "metadata": {},
   "source": [
    "Next, define the constants, G, M, and Re. G is Newton's gravitational constant, M is the mass of the earth, and Re is the radius of the earth. Use a # sign after each constant definition to create a comment to indicate the units of each constant."
   ]
  },
  {
   "cell_type": "code",
   "execution_count": null,
   "metadata": {
    "collapsed": true
   },
   "outputs": [],
   "source": []
  },
  {
   "cell_type": "markdown",
   "metadata": {},
   "source": [
    "Next, calculate the dependent variable V as a 1-D array as a function of the 1-D array z using the following expression, then print the array. **Make sure to check your units because z is in km and we want V to be in m/s!** \n",
    "$$V(z) = \\sqrt{\\frac{GM}{(R_e + z)}}$$"
   ]
  },
  {
   "cell_type": "code",
   "execution_count": null,
   "metadata": {
    "collapsed": true
   },
   "outputs": [],
   "source": []
  },
  {
   "cell_type": "markdown",
   "metadata": {},
   "source": [
    "Next, import the *matplotlib.pyplot* library as plt, then plot the array with z as the independent variable and V as the dependent variable. This is accomplished using the command *plt.plot*. Then, specify the plot title, and axis labels with units before executing the commands *plt.grid()*, *plt.savefig('WX390 Homework 1.png', dpi = 300)* and *plt.show()* to save the figure."
   ]
  },
  {
   "cell_type": "code",
   "execution_count": null,
   "metadata": {
    "collapsed": true,
    "scrolled": true
   },
   "outputs": [],
   "source": []
  },
  {
   "cell_type": "markdown",
   "metadata": {},
   "source": [
    "Print the exercise above when you are finished, along with the completed graph. Then answer the interpretation question on the corresponding homework problem using this graph. "
   ]
  }
 ],
 "metadata": {
  "kernelspec": {
   "display_name": "Python 3",
   "language": "python",
   "name": "python3"
  },
  "language_info": {
   "codemirror_mode": {
    "name": "ipython",
    "version": 3
   },
   "file_extension": ".py",
   "mimetype": "text/x-python",
   "name": "python",
   "nbconvert_exporter": "python",
   "pygments_lexer": "ipython3",
   "version": "3.7.1"
  }
 },
 "nbformat": 4,
 "nbformat_minor": 2
}
