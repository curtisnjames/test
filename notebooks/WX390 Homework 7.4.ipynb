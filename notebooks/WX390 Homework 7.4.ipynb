{
 "cells": [
  {
   "cell_type": "markdown",
   "metadata": {},
   "source": [
    "In this homework exercise, we will use Python to plot a drop size distribution as approximated by a gamma function. The gamma function is expressed as <p>\n",
    "$$N(D) = N_0 D^{\\mu} e^{-\\Lambda D} m^{-3} mm^{-1}$$\n",
    "<p>\n",
    "where $N_0$ is a the intercept parameter that controls the amplitude of the curve and has units $mm^{−1−\\mu} m^{−3}$, $\\mu$ is a dimensionless shape parameter, $\\Lambda$ (capital lambda) is the slope of the exponential in units $mm^{-1}$ contolling the peak and amplitude of the distribution curve, and $D$ is the diameter in *mm*. \n",
    "\n",
    "In our plot, $D$ will be the independent variable and $N$ will be the dependent variable (it will be a plot of $N$ v. $D$). We will want the $D$ axis to vary from roughly 0 to 5 *mm*. Properly annotate the graph with an appropriate title and axis labels with units.\n",
    "\n",
    "As always, we should include our name and assignment in a comment line at the top of our code, and then import the numpy library into Python in order to make mathematical computations. Use the box below to complete these steps."
   ]
  },
  {
   "cell_type": "code",
   "execution_count": 1,
   "metadata": {
    "collapsed": true
   },
   "outputs": [],
   "source": []
  },
  {
   "cell_type": "markdown",
   "metadata": {},
   "source": [
    "Next, use the empty equation box below to define a 1-dimensional array for diameter $D$. The array length could be 101 values ranging from 0.0 to 5.0 mm. Print the array below the box. "
   ]
  },
  {
   "cell_type": "code",
   "execution_count": null,
   "metadata": {},
   "outputs": [],
   "source": []
  },
  {
   "cell_type": "markdown",
   "metadata": {},
   "source": [
    "Now, define your constants, namely $\\mu$, $N_0$, and $\\Lambda$. Be sure to insert the comment next to each constant indicating the physical units. "
   ]
  },
  {
   "cell_type": "code",
   "execution_count": 3,
   "metadata": {
    "collapsed": true
   },
   "outputs": [],
   "source": []
  },
  {
   "cell_type": "markdown",
   "metadata": {},
   "source": [
    "Next, we calculate number density $N$ as a function of diameter $D$. Then, print the values of the arrays below the box. "
   ]
  },
  {
   "cell_type": "code",
   "execution_count": null,
   "metadata": {},
   "outputs": [],
   "source": []
  },
  {
   "cell_type": "markdown",
   "metadata": {},
   "source": [
    "Finally, import the *matplotlib.pyplot* library as plt, then plot the array $N$ with $D$ as the independent variable. This is accomplished using the command *plt.plot*. Then, specify the plot title and axis labels with units. Use the command *plt.axis([0.0, 5.0, 0, 40.0])* and *plt.grid()* to set the limits of the axis with a grid overlay. Execute the commands *plt.savefig('WX390 Homework 7.4.png', dpi = 300)* and *plt.show()* to save the figure. "
   ]
  },
  {
   "cell_type": "code",
   "execution_count": null,
   "metadata": {},
   "outputs": [],
   "source": []
  }
 ],
 "metadata": {
  "kernelspec": {
   "display_name": "Python 3",
   "language": "python",
   "name": "python3"
  },
  "language_info": {
   "codemirror_mode": {
    "name": "ipython",
    "version": 3
   },
   "file_extension": ".py",
   "mimetype": "text/x-python",
   "name": "python",
   "nbconvert_exporter": "python",
   "pygments_lexer": "ipython3",
   "version": "3.7.1"
  }
 },
 "nbformat": 4,
 "nbformat_minor": 2
}
