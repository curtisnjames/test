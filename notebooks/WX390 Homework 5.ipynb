{
 "cells": [
  {
   "cell_type": "markdown",
   "metadata": {},
   "source": [
    "In this homework exercise, we will use Python to plot $[NO_3]$ (solid) and $d[NO_3]/dt$ (dashed) as a function of time, given $[NO_3]_0$ in pptV and $J$ in $s^{-1}$. \n",
    "\n",
    "At the top of your code, insert a comment with your name and the assignment. Then import the numpy library into Python in order to make mathematical computations. Use the box below to complete these steps."
   ]
  },
  {
   "cell_type": "code",
   "execution_count": null,
   "metadata": {
    "collapsed": true
   },
   "outputs": [],
   "source": []
  },
  {
   "cell_type": "markdown",
   "metadata": {},
   "source": [
    "Next, use the empty equation box below to define a 1-dimensional array for time $t$. The arraylength 201 values ranging from 0.0 to 20.0 s. Print the array below the box. "
   ]
  },
  {
   "cell_type": "code",
   "execution_count": null,
   "metadata": {},
   "outputs": [],
   "source": []
  },
  {
   "cell_type": "markdown",
   "metadata": {},
   "source": [
    "Now, define your constants, including $J$ the photolysis reaction coefficient and $[NO_3]_0$ the initial concentration."
   ]
  },
  {
   "cell_type": "code",
   "execution_count": null,
   "metadata": {
    "collapsed": true
   },
   "outputs": [],
   "source": []
  },
  {
   "cell_type": "markdown",
   "metadata": {},
   "source": [
    "Next, we need to calculate $[NO_3]$ and $d[NO_3]/dt$ as a function of time. Then, print the values of the arrays below the box. "
   ]
  },
  {
   "cell_type": "code",
   "execution_count": null,
   "metadata": {},
   "outputs": [],
   "source": []
  },
  {
   "cell_type": "markdown",
   "metadata": {},
   "source": [
    "Finally, import the *matplotlib.pyplot* library as plt, then plot the arrays with $t$ as the independent variable and $[N0_3]$ (solid) and $d[N0_3]/dt$ (dashed) as the dependent variables. This is accomplished using the command *plt.plot*. Then, specify the plot title and axis labels with units. Use the command *plt.axis([0, 20.0, 0, 100.0])* and *plt.grid()* to set the limits of the axis with a grid overlay. Execute the commands *plt.savefig('WX390 Homework 5.png', dpi = 300)* and *plt.show()* to save the figure. "
   ]
  },
  {
   "cell_type": "code",
   "execution_count": null,
   "metadata": {},
   "outputs": [],
   "source": []
  }
 ],
 "metadata": {
  "kernelspec": {
   "display_name": "Python 3",
   "language": "python",
   "name": "python3"
  },
  "language_info": {
   "codemirror_mode": {
    "name": "ipython",
    "version": 3
   },
   "file_extension": ".py",
   "mimetype": "text/x-python",
   "name": "python",
   "nbconvert_exporter": "python",
   "pygments_lexer": "ipython3",
   "version": "3.7.1"
  }
 },
 "nbformat": 4,
 "nbformat_minor": 2
}
